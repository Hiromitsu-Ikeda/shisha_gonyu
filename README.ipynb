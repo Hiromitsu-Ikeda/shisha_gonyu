{
 "cells": [
  {
   "cell_type": "markdown",
   "id": "a04007d4",
   "metadata": {},
   "source": [
    "# shisha_gonyu"
   ]
  },
  {
   "cell_type": "markdown",
   "id": "f5a1cd88",
   "metadata": {},
   "source": [
    "This packeage can round off a value or an array-like object."
   ]
  },
  {
   "cell_type": "markdown",
   "id": "256f4c38",
   "metadata": {},
   "source": [
    "## Installation\n",
    "1. Clone this repositry.\n",
    "2. Move the \"shisha_gonyu\" directory into the \"site-packages\" directory in your python environment."
   ]
  },
  {
   "cell_type": "markdown",
   "id": "9f3975e0",
   "metadata": {},
   "source": [
    "## Usage"
   ]
  },
  {
   "cell_type": "markdown",
   "id": "9fbb0b1b",
   "metadata": {},
   "source": [
    "### Decimal\n",
    "Set the argument \"decimal_bool\" to True. (Default)\n",
    "#### Example\n",
    "If 108.88 is rounded off to the first decimal place, it becomes 108.9.\n",
    "1. input as a str object and return as a str object"
   ]
  },
  {
   "cell_type": "code",
   "execution_count": 1,
   "id": "f820fb16",
   "metadata": {},
   "outputs": [
    {
     "data": {
      "text/plain": [
       "'108.9'"
      ]
     },
     "execution_count": 1,
     "metadata": {},
     "output_type": "execute_result"
    }
   ],
   "source": [
    "import shisha_gonyu\n",
    "value = '108.88'\n",
    "shisha_gonyu.shisha_gonyu(value=value,digit=1,type_=str,decimal_bool=True)"
   ]
  },
  {
   "cell_type": "markdown",
   "id": "5e65c3d5",
   "metadata": {},
   "source": [
    "2. input as a str object and return as a float object"
   ]
  },
  {
   "cell_type": "code",
   "execution_count": 2,
   "id": "05ea39e9",
   "metadata": {},
   "outputs": [
    {
     "data": {
      "text/plain": [
       "108.9"
      ]
     },
     "execution_count": 2,
     "metadata": {},
     "output_type": "execute_result"
    }
   ],
   "source": [
    "import shisha_gonyu\n",
    "value = '108.88'\n",
    "shisha_gonyu.shisha_gonyu(value=value,digit=1,type_=float,decimal_bool=True)"
   ]
  },
  {
   "cell_type": "markdown",
   "id": "b1c1d417",
   "metadata": {},
   "source": [
    "3. input as an array object and return as an numpy.ndarray object of which type is float"
   ]
  },
  {
   "cell_type": "code",
   "execution_count": 3,
   "id": "33074bb7",
   "metadata": {},
   "outputs": [
    {
     "data": {
      "text/plain": [
       "array([108.9])"
      ]
     },
     "execution_count": 3,
     "metadata": {},
     "output_type": "execute_result"
    }
   ],
   "source": [
    "import shisha_gonyu\n",
    "value = [108.88]\n",
    "shisha_gonyu.shisha_gonyu(value=value,digit=1,type_=float,decimal_bool=True)"
   ]
  },
  {
   "cell_type": "markdown",
   "id": "f678f00c",
   "metadata": {},
   "source": [
    "### Integer\n",
    "Set the argument \"decimal_bool\" to False.\n",
    "#### Example\n",
    "If 108 is rounded off at the ones digit, it becomes 110.\n",
    "1. input as a str object and return as a str object"
   ]
  },
  {
   "cell_type": "code",
   "execution_count": 4,
   "id": "9d532078",
   "metadata": {},
   "outputs": [
    {
     "data": {
      "text/plain": [
       "110"
      ]
     },
     "execution_count": 4,
     "metadata": {},
     "output_type": "execute_result"
    }
   ],
   "source": [
    "import shisha_gonyu\n",
    "value = '108'\n",
    "shisha_gonyu.shisha_gonyu(value,digit=1,type_=str,decimal_bool=False)"
   ]
  },
  {
   "cell_type": "markdown",
   "id": "6241e4f9",
   "metadata": {},
   "source": [
    "2. input as a float object and return as a float object"
   ]
  },
  {
   "cell_type": "code",
   "execution_count": 5,
   "id": "c9fe2cee",
   "metadata": {},
   "outputs": [
    {
     "data": {
      "text/plain": [
       "110"
      ]
     },
     "execution_count": 5,
     "metadata": {},
     "output_type": "execute_result"
    }
   ],
   "source": [
    "import shisha_gonyu\n",
    "value = 108\n",
    "shisha_gonyu.shisha_gonyu(value,digit=1,type_=float,decimal_bool=False)"
   ]
  },
  {
   "cell_type": "markdown",
   "id": "70f1cba1",
   "metadata": {},
   "source": [
    "3. input as an array object and return as an numpy.ndarray object of which type is float"
   ]
  },
  {
   "cell_type": "code",
   "execution_count": 6,
   "id": "c86f71cd",
   "metadata": {},
   "outputs": [
    {
     "data": {
      "text/plain": [
       "array([110.])"
      ]
     },
     "execution_count": 6,
     "metadata": {},
     "output_type": "execute_result"
    }
   ],
   "source": [
    "import shisha_gonyu\n",
    "value = [108.88]\n",
    "shisha_gonyu.shisha_gonyu(value,digit=1,type_=float,decimal_bool=False)"
   ]
  }
 ],
 "metadata": {
  "kernelspec": {
   "display_name": "Python 3 (ipykernel)",
   "language": "python",
   "name": "python3"
  },
  "language_info": {
   "codemirror_mode": {
    "name": "ipython",
    "version": 3
   },
   "file_extension": ".py",
   "mimetype": "text/x-python",
   "name": "python",
   "nbconvert_exporter": "python",
   "pygments_lexer": "ipython3",
   "version": "3.8.12"
  }
 },
 "nbformat": 4,
 "nbformat_minor": 5
}
